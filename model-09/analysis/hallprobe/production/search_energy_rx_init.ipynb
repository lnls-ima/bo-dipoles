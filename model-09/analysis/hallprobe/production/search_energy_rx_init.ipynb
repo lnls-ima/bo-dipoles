{
 "cells": [
  {
   "cell_type": "code",
   "execution_count": 1,
   "metadata": {
    "collapsed": true
   },
   "outputs": [],
   "source": [
    "import hallprobe\n",
    "import numpy as np"
   ]
  },
  {
   "cell_type": "code",
   "execution_count": 2,
   "metadata": {
    "collapsed": true
   },
   "outputs": [],
   "source": [
    "beam_energy = 3.0\n",
    "s_step = 0.1\n",
    "rx_init = 9.045\n",
    "path_analysis = '/home/fac_files/lnls-ima/bo-dipoles/model-09/analysis/fieldmap/test'\n",
    "path_fmap = '/home/fac_files/lnls-ima/bo-dipoles/model-09/simulation/magnetic/' + \\\n",
    "            '2016-11-11_BD_Model09_Sim_X=-80_35mm_Z=-1000_1000mm_I=981.778A.txt'\n",
    "    \n",
    "h = hallprobe.FMapAnalysis('model-09', '3GeV', path_analysis, path_fmap, beam_energy, rx_init, s_step)"
   ]
  },
  {
   "cell_type": "code",
   "execution_count": 3,
   "metadata": {
    "collapsed": true
   },
   "outputs": [],
   "source": [
    "def search_rx_energy(input_, delta_input_):\n",
    "    s_step = 0.1\n",
    "    path_analysis = '/home/fac_files/lnls-ima/bo-dipoles/model-09/analysis/fieldmap/test'\n",
    "    path_fmap = '/home/fac_files/lnls-ima/bo-dipoles/model-09/simulation/magnetic/' + \\\n",
    "                '2016-11-11_BD_Model09_Sim_X=-80_35mm_Z=-1000_1000mm_I=981.778A.txt'\n",
    "        \n",
    "    beam_energy, beam_energy_delta = input_[0], delta_input_[0]\n",
    "    rx_init, rx_init_delta = input_[1], delta_input_[1]\n",
    "    \n",
    "#     beam_energy, beam_energy_delta = 3.0004502399999997, 0.05/2\n",
    "#     rx_init, rx_init_delta = 9.0994824167999973, 0.05/2\n",
    "    \n",
    "    b = np.zeros(2)\n",
    "    m = np.zeros((2, 2))\n",
    "    \n",
    "    # nominal VECTOR\n",
    "    e = beam_energy\n",
    "    x = rx_init\n",
    "    h = hallprobe.FMapAnalysis('model-09', '3GeV', path_analysis, path_fmap, e, x, s_step) \n",
    "    h.analysis_trajectory()\n",
    "    b[0] = h.results_angle\n",
    "    b[1] = h.results_rx_ref\n",
    "    \n",
    "    # response matrix - beam_energy - positive\n",
    "    e = beam_energy + 0.5 * beam_energy_delta\n",
    "    x = rx_init\n",
    "    hp = hallprobe.FMapAnalysis('model-09', '3GeV', path_analysis, path_fmap, e, x, s_step) \n",
    "    hp.analysis_trajectory()\n",
    "    \n",
    "    # response matrix - beam_energy - negative\n",
    "    e = beam_energy - 0.5 * beam_energy_delta\n",
    "    x = rx_init\n",
    "    hn = hallprobe.FMapAnalysis('model-09', '3GeV', path_analysis, path_fmap, e, x, s_step) \n",
    "    hn.analysis_trajectory()\n",
    "    \n",
    "    m[0, 0] = (hp.results_angle - hn.results_angle) / beam_energy_delta\n",
    "    m[1, 0] = (hp.results_rx_ref - hn.results_rx_ref) / beam_energy_delta\n",
    "    \n",
    "    # response matrix - rx_init - positive\n",
    "    e = beam_energy\n",
    "    x = rx_init + 0.5 * rx_init_delta\n",
    "    hp = hallprobe.FMapAnalysis('model-09', '3GeV', path_analysis, path_fmap, e, x, s_step) \n",
    "    hp.analysis_trajectory()\n",
    "    \n",
    "    # response matrix - rx_init - positive\n",
    "    e = beam_energy\n",
    "    x = rx_init - 0.5 * rx_init_delta\n",
    "    hn = hallprobe.FMapAnalysis('model-09', '3GeV', path_analysis, path_fmap, e, x, s_step) \n",
    "    hn.analysis_trajectory()\n",
    "    \n",
    "    m[0, 1] = (hp.results_angle - hn.results_angle) / rx_init_delta\n",
    "    m[1, 1] = (hp.results_rx_ref - hn.results_rx_ref) / rx_init_delta\n",
    "    \n",
    "    return b, m\n",
    "    \n",
    "    \n",
    "    "
   ]
  },
  {
   "cell_type": "code",
   "execution_count": 20,
   "metadata": {
    "collapsed": true
   },
   "outputs": [],
   "source": [
    "goal = np.array([-7.2/2, 28.2550])\n",
    "delta_input = np.array((0.05/2, 0.05/2))\n",
    "input_ = np.array((3.0004502399999997, 9.0994824167999973))"
   ]
  },
  {
   "cell_type": "code",
   "execution_count": 22,
   "metadata": {},
   "outputs": [
    {
     "name": "stdout",
     "output_type": "stream",
     "text": [
      "input_old       :  [ 3.00045024  9.09948242]\n",
      "resul_old       :  [ -3.5991    28.248534]\n",
      "result_old_error:  [ 0.0009   -0.006466]\n",
      "delta_input     :  [-0.00098598  0.01210741]\n",
      "input_new       :  [ 2.99946426  9.11158982]\n"
     ]
    }
   ],
   "source": [
    "input_old = input_\n",
    "b, m = search_rx_energy(input_, delta_input)\n",
    "delta_goal = b - goal\n",
    "delta_input = -np.dot(m, delta_goal)\n",
    "input_new = input_ + delta_input\n",
    "input_ = input_new\n",
    "\n",
    "print('input_old       : ', input_old)\n",
    "print('resul_old       : ', b)\n",
    "print('result_old_error: ', delta_goal)\n",
    "print('delta_input     : ', delta_input)\n",
    "print('input_new       : ', input_new)"
   ]
  },
  {
   "cell_type": "code",
   "execution_count": 23,
   "metadata": {},
   "outputs": [
    {
     "name": "stdout",
     "output_type": "stream",
     "text": [
      "input_old       :  [ 2.99946426  9.11158982]\n",
      "resul_old       :  [ -3.6002    28.266663]\n",
      "result_old_error:  [-0.0002    0.011663]\n",
      "delta_input     :  [ 0.00024341 -0.01259024]\n",
      "input_new       :  [ 2.99970767  9.09899958]\n"
     ]
    }
   ],
   "source": [
    "input_old = input_\n",
    "b, m = search_rx_energy(input_, delta_input)\n",
    "delta_goal = b - goal\n",
    "delta_input = -np.dot(m, delta_goal)\n",
    "input_new = input_ + delta_input\n",
    "input_ = input_new\n",
    "\n",
    "print('input_old       : ', input_old)\n",
    "print('resul_old       : ', b)\n",
    "print('result_old_error: ', delta_goal)\n",
    "print('delta_input     : ', delta_input)\n",
    "print('input_new       : ', input_new)"
   ]
  },
  {
   "cell_type": "code",
   "execution_count": 24,
   "metadata": {},
   "outputs": [
    {
     "name": "stdout",
     "output_type": "stream",
     "text": [
      "input_old       :  [ 2.99970767  9.09899958]\n",
      "resul_old       :  [ -3.6       28.252893]\n",
      "result_old_error:  [ 0.       -0.002107]\n",
      "delta_input     :  [  1.67351828e-05   2.03951672e-03]\n",
      "input_new       :  [ 2.9997244  9.1010391]\n"
     ]
    }
   ],
   "source": [
    "input_old = input_\n",
    "b, m = search_rx_energy(input_, delta_input)\n",
    "delta_goal = b - goal\n",
    "delta_input = -np.dot(m, delta_goal)\n",
    "input_new = input_ + delta_input\n",
    "input_ = input_new\n",
    "\n",
    "print('input_old       : ', input_old)\n",
    "print('resul_old       : ', b)\n",
    "print('result_old_error: ', delta_goal)\n",
    "print('delta_input     : ', delta_input)\n",
    "print('input_new       : ', input_new)"
   ]
  },
  {
   "cell_type": "code",
   "execution_count": 25,
   "metadata": {},
   "outputs": [
    {
     "name": "stdout",
     "output_type": "stream",
     "text": [
      "input_old       :  [ 2.9997244  9.1010391]\n",
      "resul_old       :  [ -3.6       28.254759]\n",
      "result_old_error:  [ 0.       -0.000241]\n",
      "delta_input     :  [  1.18165248e-05   2.33258200e-04]\n",
      "input_new       :  [ 2.99973622  9.10127235]\n"
     ]
    }
   ],
   "source": [
    "input_old = input_\n",
    "b, m = search_rx_energy(input_, delta_input)\n",
    "delta_goal = b - goal\n",
    "delta_input = -np.dot(m, delta_goal)\n",
    "input_new = input_ + delta_input\n",
    "input_ = input_new\n",
    "\n",
    "print('input_old       : ', input_old)\n",
    "print('resul_old       : ', b)\n",
    "print('result_old_error: ', delta_goal)\n",
    "print('delta_input     : ', delta_input)\n",
    "print('input_new       : ', input_new)"
   ]
  },
  {
   "cell_type": "code",
   "execution_count": null,
   "metadata": {
    "collapsed": true
   },
   "outputs": [],
   "source": []
  }
 ],
 "metadata": {
  "kernelspec": {
   "display_name": "Python 3",
   "language": "python",
   "name": "python3"
  },
  "language_info": {
   "codemirror_mode": {
    "name": "ipython",
    "version": 3
   },
   "file_extension": ".py",
   "mimetype": "text/x-python",
   "name": "python",
   "nbconvert_exporter": "python",
   "pygments_lexer": "ipython3",
   "version": "3.6.1"
  }
 },
 "nbformat": 4,
 "nbformat_minor": 2
}
