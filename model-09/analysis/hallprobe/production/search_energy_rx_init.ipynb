{
 "cells": [
  {
   "cell_type": "code",
   "execution_count": 1,
   "metadata": {
    "collapsed": true
   },
   "outputs": [],
   "source": [
    "import hallprobe\n",
    "import numpy as np"
   ]
  },
  {
   "cell_type": "markdown",
   "metadata": {},
   "source": [
    "# 3 GeV"
   ]
  },
  {
   "cell_type": "code",
   "execution_count": 9,
   "metadata": {
    "collapsed": true
   },
   "outputs": [],
   "source": [
    "def search_rx_energy(input_, delta_input_):\n",
    "    s_step = 0.1\n",
    "    path_analysis = '/tmp/fmap-test'\n",
    "    path_fmap = '/home/fac_files/lnls-ima/bo-dipoles/model-09/simulation/magnetic/' + \\\n",
    "                '2016-11-11_BD_Model09_Sim_X=-80_35mm_Z=-1000_1000mm_I=981.778A.txt'\n",
    "        \n",
    "    beam_energy, beam_energy_delta = input_[0], delta_input_[0]\n",
    "    rx_init, rx_init_delta = input_[1], delta_input_[1]\n",
    "        \n",
    "    b = np.zeros(2)\n",
    "    m = np.zeros((2, 2))\n",
    "    \n",
    "    # nominal VECTOR\n",
    "    e = beam_energy\n",
    "    x = rx_init\n",
    "    h = hallprobe.FMapAnalysis('model-09', '3GeV', path_analysis, path_fmap, e, x, s_step) \n",
    "    h.analysis_trajectory()\n",
    "    b[0] = h.results_angle\n",
    "    b[1] = h.results_rx_ref\n",
    "    \n",
    "    # response matrix - beam_energy - positive\n",
    "    e = beam_energy + 0.5 * beam_energy_delta\n",
    "    x = rx_init\n",
    "    hp = hallprobe.FMapAnalysis('model-09', '3GeV', path_analysis, path_fmap, e, x, s_step) \n",
    "    hp.analysis_trajectory()\n",
    "    \n",
    "    # response matrix - beam_energy - negative\n",
    "    e = beam_energy - 0.5 * beam_energy_delta\n",
    "    x = rx_init\n",
    "    hn = hallprobe.FMapAnalysis('model-09', '3GeV', path_analysis, path_fmap, e, x, s_step) \n",
    "    hn.analysis_trajectory()\n",
    "    \n",
    "    m[0, 0] = (hp.results_angle - hn.results_angle) / beam_energy_delta\n",
    "    m[1, 0] = (hp.results_rx_ref - hn.results_rx_ref) / beam_energy_delta\n",
    "    \n",
    "    # response matrix - rx_init - positive\n",
    "    e = beam_energy\n",
    "    x = rx_init + 0.5 * rx_init_delta\n",
    "    hp = hallprobe.FMapAnalysis('model-09', '3GeV', path_analysis, path_fmap, e, x, s_step) \n",
    "    hp.analysis_trajectory()\n",
    "    \n",
    "    # response matrix - rx_init - positive\n",
    "    e = beam_energy\n",
    "    x = rx_init - 0.5 * rx_init_delta\n",
    "    hn = hallprobe.FMapAnalysis('model-09', '3GeV', path_analysis, path_fmap, e, x, s_step) \n",
    "    hn.analysis_trajectory()\n",
    "    \n",
    "    m[0, 1] = (hp.results_angle - hn.results_angle) / rx_init_delta\n",
    "    m[1, 1] = (hp.results_rx_ref - hn.results_rx_ref) / rx_init_delta\n",
    "    \n",
    "    return b, m"
   ]
  },
  {
   "cell_type": "code",
   "execution_count": 10,
   "metadata": {},
   "outputs": [],
   "source": [
    "beam_energy = 3.0\n",
    "s_step = 0.1\n",
    "rx_init = 9.1013\n",
    "\n",
    "goal = np.array([-7.2/2, 28.2550])\n",
    "delta_input = np.array((0.05/2, 0.05/2))\n",
    "input_ = np.array((beam_energy, rx_init))"
   ]
  },
  {
   "cell_type": "code",
   "execution_count": 11,
   "metadata": {},
   "outputs": [
    {
     "name": "stdout",
     "output_type": "stream",
     "text": [
      "input_old       :  [ 3.      9.1013]\n",
      "resul_old       :  [ -3.5996   28.25322]\n",
      "result_old_error:  [ 0.0004  -0.00178]\n",
      "delta_input     :  [-0.00047056  0.00432307]\n",
      "input_new       :  [ 2.99952944  9.10562307]\n"
     ]
    }
   ],
   "source": [
    "input_old = input_\n",
    "b, m = search_rx_energy(input_, delta_input)\n",
    "delta_goal = b - goal\n",
    "delta_input = -np.dot(m, delta_goal)\n",
    "input_new = input_ + delta_input\n",
    "input_ = input_new\n",
    "\n",
    "print('input_old       : ', input_old)\n",
    "print('resul_old       : ', b)\n",
    "print('result_old_error: ', delta_goal)\n",
    "print('delta_input     : ', delta_input)\n",
    "print('input_new       : ', input_new)"
   ]
  },
  {
   "cell_type": "code",
   "execution_count": 12,
   "metadata": {},
   "outputs": [
    {
     "name": "stdout",
     "output_type": "stream",
     "text": [
      "input_old       :  [ 2.99952944  9.10562307]\n",
      "resul_old       :  [ -3.6002    28.260464]\n",
      "result_old_error:  [-0.0002    0.005464]\n",
      "delta_input     :  [  8.61211478e-05  -6.59006662e-03]\n",
      "input_new       :  [ 2.99961556  9.09903301]\n"
     ]
    }
   ],
   "source": [
    "input_old = input_\n",
    "b, m = search_rx_energy(input_, delta_input)\n",
    "delta_goal = b - goal\n",
    "delta_input = -np.dot(m, delta_goal)\n",
    "input_new = input_ + delta_input\n",
    "input_ = input_new\n",
    "\n",
    "print('input_old       : ', input_old)\n",
    "print('resul_old       : ', b)\n",
    "print('result_old_error: ', delta_goal)\n",
    "print('delta_input     : ', delta_input)\n",
    "print('input_new       : ', input_new)"
   ]
  },
  {
   "cell_type": "code",
   "execution_count": 13,
   "metadata": {},
   "outputs": [
    {
     "name": "stdout",
     "output_type": "stream",
     "text": [
      "input_old       :  [ 2.99961556  9.09903301]\n",
      "resul_old       :  [ -3.6001    28.253525]\n",
      "result_old_error:  [ -1.00000000e-04  -1.47500000e-03]\n",
      "delta_input     :  [ 0.00023223  0.00077751]\n",
      "input_new       :  [ 2.99984779  9.09981052]\n"
     ]
    }
   ],
   "source": [
    "input_old = input_\n",
    "b, m = search_rx_energy(input_, delta_input)\n",
    "delta_goal = b - goal\n",
    "delta_input = -np.dot(m, delta_goal)\n",
    "input_new = input_ + delta_input\n",
    "input_ = input_new\n",
    "\n",
    "print('input_old       : ', input_old)\n",
    "print('resul_old       : ', b)\n",
    "print('result_old_error: ', delta_goal)\n",
    "print('delta_input     : ', delta_input)\n",
    "print('input_new       : ', input_new)"
   ]
  },
  {
   "cell_type": "code",
   "execution_count": 15,
   "metadata": {},
   "outputs": [
    {
     "name": "stdout",
     "output_type": "stream",
     "text": [
      "input_old       :  [ 2.99958943  9.10327269]\n",
      "resul_old       :  [ -3.6001    28.257798]\n",
      "result_old_error:  [ -1.00000000e-04   2.79800000e-03]\n",
      "delta_input     :  [ 0.00015482 -0.00335682]\n",
      "input_new       :  [ 2.99974425  9.09991587]\n"
     ]
    }
   ],
   "source": [
    "input_old = input_\n",
    "b, m = search_rx_energy(input_, delta_input/2)\n",
    "delta_goal = b - goal\n",
    "delta_input = -np.dot(m, delta_goal)\n",
    "input_new = input_ + delta_input\n",
    "input_ = input_new\n",
    "\n",
    "print('input_old       : ', input_old)\n",
    "print('resul_old       : ', b)\n",
    "print('result_old_error: ', delta_goal)\n",
    "print('delta_input     : ', delta_input)\n",
    "print('input_new       : ', input_new)"
   ]
  },
  {
   "cell_type": "code",
   "execution_count": 16,
   "metadata": {},
   "outputs": [
    {
     "name": "stdout",
     "output_type": "stream",
     "text": [
      "input_old       :  [ 2.99974425  9.09991587]\n",
      "resul_old       :  [ -3.5999    28.253542]\n",
      "result_old_error:  [ 0.0001   -0.001458]\n",
      "delta_input     :  [-0.00025836  0.00206096]\n",
      "input_new       :  [ 2.99948589  9.10197683]\n"
     ]
    }
   ],
   "source": [
    "input_old = input_\n",
    "b, m = search_rx_energy(input_, delta_input/4)\n",
    "delta_goal = b - goal\n",
    "delta_input = -np.dot(m, delta_goal)\n",
    "input_new = input_ + delta_input\n",
    "input_ = input_new\n",
    "\n",
    "print('input_old       : ', input_old)\n",
    "print('resul_old       : ', b)\n",
    "print('result_old_error: ', delta_goal)\n",
    "print('delta_input     : ', delta_input)\n",
    "print('input_new       : ', input_new)"
   ]
  },
  {
   "cell_type": "markdown",
   "metadata": {},
   "source": [
    "# 150 MeV"
   ]
  },
  {
   "cell_type": "code",
   "execution_count": 2,
   "metadata": {
    "collapsed": true
   },
   "outputs": [],
   "source": [
    "def search_rx_energy(input_, delta_input_):\n",
    "    s_step = 0.1\n",
    "    path_analysis = '/tmp/fmap-test'\n",
    "    path_fmap = '/home/fac_files/lnls-ima/bo-dipoles/model-09/simulation/magnetic/' + \\\n",
    "                '2016-12-05_BD_Model09_Sim_X=-80_35mm_Z=-1000_1000mm_I=48.92A.txt'\n",
    "        \n",
    "    beam_energy, beam_energy_delta = input_[0], delta_input_[0]\n",
    "    rx_init, rx_init_delta = input_[1], delta_input_[1]\n",
    "        \n",
    "    b = np.zeros(2)\n",
    "    m = np.zeros((2, 2))\n",
    "    \n",
    "    # nominal VECTOR\n",
    "    e = beam_energy\n",
    "    x = rx_init\n",
    "    h = hallprobe.FMapAnalysis('model-09', '150MeV', path_analysis, path_fmap, e, x, s_step) \n",
    "    h.analysis_trajectory()\n",
    "    b[0] = h.results_angle\n",
    "    b[1] = h.results_rx_ref\n",
    "    \n",
    "    # response matrix - beam_energy - positive\n",
    "    e = beam_energy + 0.5 * beam_energy_delta\n",
    "    x = rx_init\n",
    "    hp = hallprobe.FMapAnalysis('model-09', '150MeV', path_analysis, path_fmap, e, x, s_step) \n",
    "    hp.analysis_trajectory()\n",
    "    \n",
    "    # response matrix - beam_energy - negative\n",
    "    e = beam_energy - 0.5 * beam_energy_delta\n",
    "    x = rx_init\n",
    "    hn = hallprobe.FMapAnalysis('model-09', '150MeV', path_analysis, path_fmap, e, x, s_step) \n",
    "    hn.analysis_trajectory()\n",
    "    \n",
    "    m[0, 0] = (hp.results_angle - hn.results_angle) / beam_energy_delta\n",
    "    m[1, 0] = (hp.results_rx_ref - hn.results_rx_ref) / beam_energy_delta\n",
    "    \n",
    "    # response matrix - rx_init - positive\n",
    "    e = beam_energy\n",
    "    x = rx_init + 0.5 * rx_init_delta\n",
    "    hp = hallprobe.FMapAnalysis('model-09', '150MeV', path_analysis, path_fmap, e, x, s_step) \n",
    "    hp.analysis_trajectory()\n",
    "    \n",
    "    # response matrix - rx_init - positive\n",
    "    e = beam_energy\n",
    "    x = rx_init - 0.5 * rx_init_delta\n",
    "    hn = hallprobe.FMapAnalysis('model-09', '150MeV', path_analysis, path_fmap, e, x, s_step) \n",
    "    hn.analysis_trajectory()\n",
    "    \n",
    "    m[0, 1] = (hp.results_angle - hn.results_angle) / rx_init_delta\n",
    "    m[1, 1] = (hp.results_rx_ref - hn.results_rx_ref) / rx_init_delta\n",
    "    \n",
    "    return b, m"
   ]
  },
  {
   "cell_type": "code",
   "execution_count": 5,
   "metadata": {
    "collapsed": true
   },
   "outputs": [],
   "source": [
    "goal = np.array([-7.2/2, 28.2550])\n",
    "delta_input = np.array((0.05/2/20, 0.05/2))\n",
    "input_ = np.array((0.150, 9.045))"
   ]
  },
  {
   "cell_type": "code",
   "execution_count": 6,
   "metadata": {},
   "outputs": [
    {
     "name": "stdout",
     "output_type": "stream",
     "text": [
      "input_old       :  [ 0.15   9.045]\n",
      "resul_old       :  [ -3.6001    28.209772]\n",
      "result_old_error:  [ -1.00000000e-04  -4.52280000e-02]\n",
      "delta_input     :  [ 0.00278582  0.03075817]\n",
      "input_new       :  [ 0.15        9.07575817]\n"
     ]
    }
   ],
   "source": [
    "input_old = input_\n",
    "b, m = search_rx_energy(input_, delta_input)\n",
    "delta_goal = b - goal\n",
    "delta_input = -np.dot(m, delta_goal)\n",
    "input_new = input_ + delta_input\n",
    "input_new[0] = input_[0]\n",
    "input_new[1] = input_[1] + delta_input[1]\n",
    "input_ = input_new\n",
    "\n",
    "print('input_old       : ', input_old)\n",
    "print('resul_old       : ', b)\n",
    "print('result_old_error: ', delta_goal)\n",
    "print('delta_input     : ', delta_input)\n",
    "print('input_new       : ', input_new)"
   ]
  },
  {
   "cell_type": "code",
   "execution_count": 7,
   "metadata": {},
   "outputs": [
    {
     "name": "stdout",
     "output_type": "stream",
     "text": [
      "input_old       :  [ 0.15        9.07575817]\n",
      "resul_old       :  [ -3.5999    28.239539]\n",
      "result_old_error:  [ 0.0001   -0.015461]\n",
      "delta_input     :  [-0.00232604  0.02797487]\n",
      "input_new       :  [ 0.15        9.10373304]\n"
     ]
    }
   ],
   "source": [
    "input_old = input_\n",
    "b, m = search_rx_energy(input_, delta_input)\n",
    "delta_goal = b - goal\n",
    "delta_input = -np.dot(m, delta_goal)\n",
    "input_new = input_ + delta_input\n",
    "input_new[0] = input_[0]\n",
    "input_new[1] = input_[1] + delta_input[1]\n",
    "input_ = input_new\n",
    "\n",
    "print('input_old       : ', input_old)\n",
    "print('resul_old       : ', b)\n",
    "print('result_old_error: ', delta_goal)\n",
    "print('delta_input     : ', delta_input)\n",
    "print('input_new       : ', input_new)"
   ]
  },
  {
   "cell_type": "code",
   "execution_count": 8,
   "metadata": {},
   "outputs": [
    {
     "name": "stdout",
     "output_type": "stream",
     "text": [
      "input_old       :  [ 0.15        9.10373304]\n",
      "resul_old       :  [ -3.5997    28.266612]\n",
      "result_old_error:  [ 0.0003    0.011612]\n",
      "delta_input     :  [-0.00735719  0.02779669]\n",
      "input_new       :  [ 0.15        9.13152973]\n"
     ]
    }
   ],
   "source": [
    "input_old = input_\n",
    "b, m = search_rx_energy(input_, delta_input)\n",
    "delta_goal = b - goal\n",
    "delta_input = -np.dot(m, delta_goal)\n",
    "input_new = input_ + delta_input\n",
    "input_new[0] = input_[0]\n",
    "input_new[1] = input_[1] + delta_input[1]\n",
    "input_ = input_new\n",
    "\n",
    "print('input_old       : ', input_old)\n",
    "print('resul_old       : ', b)\n",
    "print('result_old_error: ', delta_goal)\n",
    "print('delta_input     : ', delta_input)\n",
    "print('input_new       : ', input_new)"
   ]
  },
  {
   "cell_type": "code",
   "execution_count": 9,
   "metadata": {},
   "outputs": [
    {
     "name": "stdout",
     "output_type": "stream",
     "text": [
      "input_old       :  [ 0.15        9.13152973]\n",
      "resul_old       :  [ -3.5995    28.293512]\n",
      "result_old_error:  [ 0.0005    0.038512]\n",
      "delta_input     :  [-0.0124013   0.02779095]\n",
      "input_new       :  [ 0.15        9.15932067]\n"
     ]
    }
   ],
   "source": [
    "input_old = input_\n",
    "b, m = search_rx_energy(input_, delta_input/2)\n",
    "delta_goal = b - goal\n",
    "delta_input = -np.dot(m, delta_goal)\n",
    "input_new = input_ + delta_input\n",
    "input_new[0] = input_[0]\n",
    "input_new[1] = input_[1] + delta_input[1]\n",
    "input_ = input_new\n",
    "\n",
    "print('input_old       : ', input_old)\n",
    "print('resul_old       : ', b)\n",
    "print('result_old_error: ', delta_goal)\n",
    "print('delta_input     : ', delta_input)\n",
    "print('input_new       : ', input_new)"
   ]
  },
  {
   "cell_type": "code",
   "execution_count": null,
   "metadata": {
    "collapsed": true
   },
   "outputs": [],
   "source": []
  }
 ],
 "metadata": {
  "kernelspec": {
   "display_name": "Python 3",
   "language": "python",
   "name": "python3"
  },
  "language_info": {
   "codemirror_mode": {
    "name": "ipython",
    "version": 3
   },
   "file_extension": ".py",
   "mimetype": "text/x-python",
   "name": "python",
   "nbconvert_exporter": "python",
   "pygments_lexer": "ipython3",
   "version": "3.6.1"
  }
 },
 "nbformat": 4,
 "nbformat_minor": 2
}
